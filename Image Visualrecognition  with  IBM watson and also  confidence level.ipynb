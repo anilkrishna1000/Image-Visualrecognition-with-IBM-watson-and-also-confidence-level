{
 "cells": [
  {
   "cell_type": "code",
   "execution_count": 3,
   "metadata": {
    "scrolled": true
   },
   "outputs": [
    {
     "name": "stdout",
     "output_type": "stream",
     "text": [
      "Collecting watson_developer_cloud\n",
      "  Downloading https://files.pythonhosted.org/packages/fc/a5/a89fc49bd82eb6ea569e45b43383c28cd51b5076f43010dcc3331c137ff5/watson-developer-cloud-2.10.1.tar.gz (248kB)\n",
      "Requirement already satisfied: requests<3.0,>=2.0 in c:\\users\\anilkrishna\\anaconda3\\lib\\site-packages (from watson_developer_cloud) (2.22.0)\n",
      "Requirement already satisfied: python_dateutil>=2.5.3 in c:\\users\\anilkrishna\\anaconda3\\lib\\site-packages (from watson_developer_cloud) (2.8.0)\n",
      "Collecting websocket-client==0.48.0 (from watson_developer_cloud)\n",
      "  Downloading https://files.pythonhosted.org/packages/8a/a1/72ef9aa26cfe1a75cee09fc1957e4723add9de098c15719416a1ee89386b/websocket_client-0.48.0-py2.py3-none-any.whl (198kB)\n",
      "Requirement already satisfied: idna<2.9,>=2.5 in c:\\users\\anilkrishna\\anaconda3\\lib\\site-packages (from requests<3.0,>=2.0->watson_developer_cloud) (2.8)\n",
      "Requirement already satisfied: chardet<3.1.0,>=3.0.2 in c:\\users\\anilkrishna\\anaconda3\\lib\\site-packages (from requests<3.0,>=2.0->watson_developer_cloud) (3.0.4)\n",
      "Requirement already satisfied: urllib3!=1.25.0,!=1.25.1,<1.26,>=1.21.1 in c:\\users\\anilkrishna\\anaconda3\\lib\\site-packages (from requests<3.0,>=2.0->watson_developer_cloud) (1.24.2)\n",
      "Requirement already satisfied: certifi>=2017.4.17 in c:\\users\\anilkrishna\\anaconda3\\lib\\site-packages (from requests<3.0,>=2.0->watson_developer_cloud) (2019.9.11)\n",
      "Requirement already satisfied: six>=1.5 in c:\\users\\anilkrishna\\anaconda3\\lib\\site-packages (from python_dateutil>=2.5.3->watson_developer_cloud) (1.12.0)\n",
      "Building wheels for collected packages: watson-developer-cloud\n",
      "  Building wheel for watson-developer-cloud (setup.py): started\n",
      "  Building wheel for watson-developer-cloud (setup.py): finished with status 'done'\n",
      "  Created wheel for watson-developer-cloud: filename=watson_developer_cloud-2.10.1-cp37-none-any.whl size=252819 sha256=d1b3b310c64f97f210aa27e3a4651d8db304a474b5868f8599a854408638eabe\n",
      "  Stored in directory: C:\\Users\\anilkrishna\\AppData\\Local\\pip\\Cache\\wheels\\ea\\a7\\19\\fac0a408a586265eb374005308a7553d4494ab41b2fd88f5bc\n",
      "Successfully built watson-developer-cloud\n",
      "Installing collected packages: websocket-client, watson-developer-cloud\n",
      "Successfully installed watson-developer-cloud-2.10.1 websocket-client-0.48.0\n"
     ]
    }
   ],
   "source": [
    "!pip install watson_developer_cloud"
   ]
  },
  {
   "cell_type": "markdown",
   "metadata": {},
   "source": [
    "## Authentication"
   ]
  },
  {
   "cell_type": "code",
   "execution_count": 11,
   "metadata": {},
   "outputs": [
    {
     "name": "stderr",
     "output_type": "stream",
     "text": [
      "C:\\Users\\anilkrishna\\Anaconda3\\lib\\site-packages\\ipykernel_launcher.py:5: DeprecationWarning: watson-developer-cloud moved to ibm-watson. To get updates, use the new package.\n",
      "  \"\"\"\n"
     ]
    }
   ],
   "source": [
    "from watson_developer_cloud import VisualRecognitionV3\n",
    "\n",
    "visual_recognition = VisualRecognitionV3(\n",
    "    version='2018-03-19',\n",
    "    iam_apikey=('EfhlLhCbBiXujQDbdkTuZdD8W1ECfjiQdwG7o78gQ7mH')\n",
    ")"
   ]
  },
  {
   "cell_type": "markdown",
   "metadata": {},
   "source": [
    "## Classify an image"
   ]
  },
  {
   "cell_type": "code",
   "execution_count": 12,
   "metadata": {},
   "outputs": [
    {
     "name": "stderr",
     "output_type": "stream",
     "text": [
      "C:\\Users\\anilkrishna\\Anaconda3\\lib\\site-packages\\ipykernel_launcher.py:6: DeprecationWarning: watson-developer-cloud moved to ibm-watson. To get updates, use the new package.\n",
      "  \n"
     ]
    },
    {
     "name": "stdout",
     "output_type": "stream",
     "text": [
      "{\n",
      "  \"images\": [\n",
      "    {\n",
      "      \"classifiers\": [\n",
      "        {\n",
      "          \"classifier_id\": \"default\",\n",
      "          \"name\": \"default\",\n",
      "          \"classes\": [\n",
      "            {\n",
      "              \"class\": \"fruit\",\n",
      "              \"score\": 0.788\n",
      "            },\n",
      "            {\n",
      "              \"class\": \"olive color\",\n",
      "              \"score\": 0.973\n",
      "            },\n",
      "            {\n",
      "              \"class\": \"lemon yellow color\",\n",
      "              \"score\": 0.789\n",
      "            }\n",
      "          ]\n",
      "        }\n",
      "      ],\n",
      "      \"image\": \"fruitbowl.jpg\"\n",
      "    }\n",
      "  ],\n",
      "  \"images_processed\": 1,\n",
      "  \"custom_classes\": 0\n",
      "}\n"
     ]
    }
   ],
   "source": [
    "import json\n",
    "from watson_developer_cloud import VisualRecognitionV3\n",
    "\n",
    "visual_recognition = VisualRecognitionV3(\n",
    "    '2018-03-19',\n",
    "    iam_apikey='EfhlLhCbBiXujQDbdkTuZdD8W1ECfjiQdwG7o78gQ7mH')\n",
    "\n",
    "with open('fruitbowl.jpg', 'rb') as images_file:\n",
    "    classes = visual_recognition.classify(\n",
    "        images_file,\n",
    "        threshold='0.6',\n",
    "\tclassifier_ids='default').get_result()\n",
    "print(json.dumps(classes, indent=2))"
   ]
  },
  {
   "cell_type": "code",
   "execution_count": 6,
   "metadata": {},
   "outputs": [
    {
     "name": "stdout",
     "output_type": "stream",
     "text": [
      "Collecting ibm-watson>=4.2.1\n",
      "  Downloading https://files.pythonhosted.org/packages/a2/3c/c2cfb41db546fe98820e89017c892d73991cef61b9c48680191fe703a214/ibm-watson-4.7.1.tar.gz (385kB)\n",
      "Requirement already satisfied, skipping upgrade: requests<3.0,>=2.0 in c:\\users\\anilkrishna\\anaconda3\\lib\\site-packages (from ibm-watson>=4.2.1) (2.22.0)\n",
      "Requirement already satisfied, skipping upgrade: python_dateutil>=2.5.3 in c:\\users\\anilkrishna\\anaconda3\\lib\\site-packages (from ibm-watson>=4.2.1) (2.8.0)\n",
      "Requirement already satisfied, skipping upgrade: websocket-client==0.48.0 in c:\\users\\anilkrishna\\anaconda3\\lib\\site-packages (from ibm-watson>=4.2.1) (0.48.0)\n",
      "Collecting ibm_cloud_sdk_core==1.7.3 (from ibm-watson>=4.2.1)\n",
      "  Downloading https://files.pythonhosted.org/packages/b7/23/aa9ae242f6348a1ed28fca2e6d3e76e043c3db951f9b516e1992518fe2c3/ibm-cloud-sdk-core-1.7.3.tar.gz\n",
      "Requirement already satisfied, skipping upgrade: certifi>=2017.4.17 in c:\\users\\anilkrishna\\anaconda3\\lib\\site-packages (from requests<3.0,>=2.0->ibm-watson>=4.2.1) (2019.9.11)\n",
      "Requirement already satisfied, skipping upgrade: idna<2.9,>=2.5 in c:\\users\\anilkrishna\\anaconda3\\lib\\site-packages (from requests<3.0,>=2.0->ibm-watson>=4.2.1) (2.8)\n",
      "Requirement already satisfied, skipping upgrade: urllib3!=1.25.0,!=1.25.1,<1.26,>=1.21.1 in c:\\users\\anilkrishna\\anaconda3\\lib\\site-packages (from requests<3.0,>=2.0->ibm-watson>=4.2.1) (1.24.2)\n",
      "Requirement already satisfied, skipping upgrade: chardet<3.1.0,>=3.0.2 in c:\\users\\anilkrishna\\anaconda3\\lib\\site-packages (from requests<3.0,>=2.0->ibm-watson>=4.2.1) (3.0.4)\n",
      "Requirement already satisfied, skipping upgrade: six>=1.5 in c:\\users\\anilkrishna\\anaconda3\\lib\\site-packages (from python_dateutil>=2.5.3->ibm-watson>=4.2.1) (1.12.0)\n",
      "Collecting PyJWT>=1.7.1 (from ibm_cloud_sdk_core==1.7.3->ibm-watson>=4.2.1)\n",
      "  Downloading https://files.pythonhosted.org/packages/87/8b/6a9f14b5f781697e51259d81657e6048fd31a113229cf346880bb7545565/PyJWT-1.7.1-py2.py3-none-any.whl\n",
      "Building wheels for collected packages: ibm-watson, ibm-cloud-sdk-core\n",
      "  Building wheel for ibm-watson (setup.py): started\n",
      "  Building wheel for ibm-watson (setup.py): finished with status 'done'\n",
      "  Created wheel for ibm-watson: filename=ibm_watson-4.7.1-cp37-none-any.whl size=379135 sha256=04d13207be9565c482f29c96814bb2806dbd3dcf61e4b70bcbce8ac6e028ce23\n",
      "  Stored in directory: C:\\Users\\anilkrishna\\AppData\\Local\\pip\\Cache\\wheels\\6e\\14\\69\\dbbd573a3bab3bf64984572284f13f174f430038308abdd73c\n",
      "  Building wheel for ibm-cloud-sdk-core (setup.py): started\n",
      "  Building wheel for ibm-cloud-sdk-core (setup.py): finished with status 'done'\n",
      "  Created wheel for ibm-cloud-sdk-core: filename=ibm_cloud_sdk_core-1.7.3-cp37-none-any.whl size=45948 sha256=6780e2770c6ecb1b73b7b59da1b4f81cca27fd439c337573da27b1f83b13bcfb\n",
      "  Stored in directory: C:\\Users\\anilkrishna\\AppData\\Local\\pip\\Cache\\wheels\\34\\6e\\58\\589e0f841c2fae9dad99630d78ddc7a60c5c7663a16a39cdbb\n",
      "Successfully built ibm-watson ibm-cloud-sdk-core\n",
      "Installing collected packages: PyJWT, ibm-cloud-sdk-core, ibm-watson\n",
      "Successfully installed PyJWT-1.7.1 ibm-cloud-sdk-core-1.7.3 ibm-watson-4.7.1\n"
     ]
    }
   ],
   "source": [
    "!pip install --upgrade \"ibm-watson>=4.2.1\""
   ]
  },
  {
   "cell_type": "code",
   "execution_count": 4,
   "metadata": {},
   "outputs": [
    {
     "name": "stdout",
     "output_type": "stream",
     "text": [
      "{\n",
      "  \"images\": [\n",
      "    {\n",
      "      \"classifiers\": [\n",
      "        {\n",
      "          \"classifier_id\": \"food\",\n",
      "          \"name\": \"food\",\n",
      "          \"classes\": [\n",
      "            {\n",
      "              \"class\": \"pepperoni pizza\",\n",
      "              \"score\": 0.928,\n",
      "              \"type_hierarchy\": \"/pizza/pepperoni pizza\"\n",
      "            },\n",
      "            {\n",
      "              \"class\": \"pizza\",\n",
      "              \"score\": 0.947\n",
      "            }\n",
      "          ]\n",
      "        }\n",
      "      ],\n",
      "      \"image\": \"test.jpg\"\n",
      "    }\n",
      "  ],\n",
      "  \"images_processed\": 1,\n",
      "  \"custom_classes\": 0\n",
      "}\n"
     ]
    }
   ],
   "source": [
    "import json\n",
    "from ibm_watson import VisualRecognitionV3\n",
    "from ibm_cloud_sdk_core.authenticators import IAMAuthenticator\n",
    "\n",
    "authenticator = IAMAuthenticator('EfhlLhCbBiXujQDbdkTuZdD8W1ECfjiQdwG7o78gQ7mH')\n",
    "\n",
    "visual_recognition = VisualRecognitionV3(\n",
    "    version='2018-03-19',\n",
    "    authenticator=authenticator)\n",
    "\n",
    "visual_recognition.set_service_url('https://api.us-south.visual-recognition.watson.cloud.ibm.com/instances/7688dc0f-82f7-445e-a9a4-0350b01b4c30') \n",
    "\n",
    "with open('test.jpg', 'rb') as images_file: \n",
    "    classes = visual_recognition.classify(images_file=images_file,threshold='0.6',classifier_ids='food').get_result()\n",
    "\n",
    "print(json.dumps(classes, indent=2)) "
   ]
  },
  {
   "cell_type": "code",
   "execution_count": null,
   "metadata": {},
   "outputs": [],
   "source": []
  }
 ],
 "metadata": {
  "kernelspec": {
   "display_name": "Python 3",
   "language": "python",
   "name": "python3"
  },
  "language_info": {
   "codemirror_mode": {
    "name": "ipython",
    "version": 3
   },
   "file_extension": ".py",
   "mimetype": "text/x-python",
   "name": "python",
   "nbconvert_exporter": "python",
   "pygments_lexer": "ipython3",
   "version": "3.7.4"
  }
 },
 "nbformat": 4,
 "nbformat_minor": 2
}
